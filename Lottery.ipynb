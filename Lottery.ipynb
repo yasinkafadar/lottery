{
 "cells": [
  {
   "cell_type": "code",
   "execution_count": 123,
   "metadata": {},
   "outputs": [],
   "source": [
    "import requests\n",
    "import json\n",
    "import codecs\n",
    "import pathlib"
   ]
  },
  {
   "cell_type": "code",
   "execution_count": 124,
   "metadata": {},
   "outputs": [],
   "source": [
    "def writeToFile(fileName, content) :\n",
    "    print(fileName)\n",
    "    output = open(fileName, 'w')\n",
    "    output.write(content)"
   ]
  },
  {
   "cell_type": "code",
   "execution_count": 125,
   "metadata": {},
   "outputs": [],
   "source": [
    "def createLuckGameFolder(directoryName) :\n",
    "    pathlib.Path(directoryName).mkdir(exist_ok=True) "
   ]
  },
  {
   "cell_type": "code",
   "execution_count": 126,
   "metadata": {},
   "outputs": [],
   "source": [
    "# sayisal, sanstopu, onnumara, superloto\n",
    "def getLuckGameDrawDates(gameName = \"onnumara\"):\n",
    "    url = 'http://www.mpi.gov.tr/sonuclar/listCekilisleriTarihleri.php?tur=' + gameName\n",
    "    resp = requests.get(url)\n",
    "    writeToFile(gameName + '_draw_dates.json', resp.text);\n",
    "    dataJson = json.load(codecs.open(gameName + '_draw_dates.json', 'r', 'utf-8-sig'))\n",
    "    drawDates = []\n",
    "    for drawDate in dataJson :\n",
    "        #print(drawDate['tarih'])\n",
    "        drawDates.append(drawDate['tarih'])\n",
    "    print(gameName + ' toplam cekilis sayisi ' + str(len(drawDates)))\n",
    "    return drawDates"
   ]
  },
  {
   "cell_type": "code",
   "execution_count": 127,
   "metadata": {},
   "outputs": [],
   "source": [
    "def fixResultJsonName(drawDate) :\n",
    "    if(game == 'sayisal') :\n",
    "        return 'SAY_' + drawDate\n",
    "    else :\n",
    "        return drawDate"
   ]
  },
  {
   "cell_type": "code",
   "execution_count": 131,
   "metadata": {},
   "outputs": [],
   "source": [
    "def getGameResult(game, drawDate) :\n",
    "    url = 'http://www.mpi.gov.tr/sonuclar/cekilisler/' + game + '/' + fixResultJsonName(drawDate) + '.json'\n",
    "    resp = requests.get(url=url)\n",
    "    try:\n",
    "        dataJson=resp.json()\n",
    "        print(url)\n",
    "    except ValueError:\n",
    "        url = 'http://www.mpi.gov.tr/sonuclar/cekilisler/' + game + '/' + drawDate + '.json'\n",
    "        print(url)\n",
    "        resp = requests.get(url=url)\n",
    "        dataJson = resp.json()\n",
    "\n",
    "    if(dataJson['success']) :\n",
    "        data = dataJson['data']\n",
    "        writeToFile(game + '/' + drawDate + '.json', json.dumps(data))\n",
    "        return data['rakamlar']\n",
    "    else :\n",
    "        print('WTH???')"
   ]
  },
  {
   "cell_type": "code",
   "execution_count": 132,
   "metadata": {},
   "outputs": [],
   "source": [
    "def getAllLotteryGameResult() :\n",
    "    gameList = ('sayisal', 'sanstopu', 'onnumara', 'superloto')\n",
    "    for game in gameList :\n",
    "        createLuckGameFolder(game)\n",
    "        drawDates = getLuckGameDrawDates(game)\n",
    "        for drawDate in drawDates :\n",
    "            result = getGameResult(game, drawDate)\n",
    "            print(result)"
   ]
  },
  {
   "cell_type": "code",
   "execution_count": 139,
   "metadata": {},
   "outputs": [],
   "source": [
    "def getLastResults(game, atLeast = 1) :\n",
    "    createLuckGameFolder(game)\n",
    "    drawDates = getLuckGameDrawDates(game)\n",
    "    for index in range(0, atLeast) :\n",
    "        print(drawDates[index])\n",
    "        \n",
    "    \n",
    "    \n",
    "\n",
    "\n",
    "\n"
   ]
  },
  {
   "cell_type": "code",
   "execution_count": 141,
   "metadata": {},
   "outputs": [
    {
     "name": "stdout",
     "output_type": "stream",
     "text": [
      "superloto_draw_dates.json\n",
      "superloto toplam cekilis sayisi 577\n",
      "20181108\n",
      "20181101\n"
     ]
    }
   ],
   "source": [
    "getLastResults('superloto', 2)"
   ]
  },
  {
   "cell_type": "code",
   "execution_count": 142,
   "metadata": {},
   "outputs": [
    {
     "name": "stdout",
     "output_type": "stream",
     "text": [
      "sanstopu_draw_dates.json\n",
      "sanstopu toplam cekilis sayisi 908\n",
      "20181107\n"
     ]
    }
   ],
   "source": [
    "getLastResults('sanstopu')"
   ]
  },
  {
   "cell_type": "code",
   "execution_count": null,
   "metadata": {},
   "outputs": [],
   "source": []
  }
 ],
 "metadata": {
  "kernelspec": {
   "display_name": "Python 3",
   "language": "python",
   "name": "python3"
  },
  "language_info": {
   "codemirror_mode": {
    "name": "ipython",
    "version": 3
   },
   "file_extension": ".py",
   "mimetype": "text/x-python",
   "name": "python",
   "nbconvert_exporter": "python",
   "pygments_lexer": "ipython3",
   "version": "3.7.0"
  }
 },
 "nbformat": 4,
 "nbformat_minor": 2
}
